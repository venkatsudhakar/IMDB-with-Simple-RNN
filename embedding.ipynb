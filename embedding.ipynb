{
 "cells": [
  {
   "cell_type": "code",
   "execution_count": 1,
   "metadata": {},
   "outputs": [],
   "source": [
    "from tensorflow.keras.preprocessing.text import one_hot"
   ]
  },
  {
   "cell_type": "code",
   "execution_count": 2,
   "metadata": {},
   "outputs": [],
   "source": [
    "### sentences\n",
    "sent=[  'the glass of milk',\n",
    "     'the glass of juice',\n",
    "     'the cup of tea',\n",
    "    'I am a good boy',\n",
    "     'I am a good developer',\n",
    "     'understand the meaning of words',\n",
    "     'your videos are good',]"
   ]
  },
  {
   "cell_type": "code",
   "execution_count": 3,
   "metadata": {},
   "outputs": [
    {
     "data": {
      "text/plain": [
       "['the glass of milk',\n",
       " 'the glass of juice',\n",
       " 'the cup of tea',\n",
       " 'I am a good boy',\n",
       " 'I am a good developer',\n",
       " 'understand the meaning of words',\n",
       " 'your videos are good']"
      ]
     },
     "execution_count": 3,
     "metadata": {},
     "output_type": "execute_result"
    }
   ],
   "source": [
    "sent"
   ]
  },
  {
   "cell_type": "code",
   "execution_count": 4,
   "metadata": {},
   "outputs": [],
   "source": [
    "## Define the vocabulary size\n",
    "voc_size=10000"
   ]
  },
  {
   "cell_type": "code",
   "execution_count": 5,
   "metadata": {},
   "outputs": [
    {
     "data": {
      "text/plain": [
       "['the glass of milk',\n",
       " 'the glass of juice',\n",
       " 'the cup of tea',\n",
       " 'I am a good boy',\n",
       " 'I am a good developer',\n",
       " 'understand the meaning of words',\n",
       " 'your videos are good']"
      ]
     },
     "execution_count": 5,
     "metadata": {},
     "output_type": "execute_result"
    }
   ],
   "source": [
    "sent"
   ]
  },
  {
   "cell_type": "code",
   "execution_count": 6,
   "metadata": {},
   "outputs": [
    {
     "data": {
      "text/plain": [
       "[[9203, 6602, 1413, 4295],\n",
       " [9203, 6602, 1413, 2894],\n",
       " [9203, 8444, 1413, 5938],\n",
       " [2159, 3475, 4892, 1466, 135],\n",
       " [2159, 3475, 4892, 1466, 1678],\n",
       " [9728, 9203, 2489, 1413, 1074],\n",
       " [8044, 2912, 1920, 1466]]"
      ]
     },
     "execution_count": 6,
     "metadata": {},
     "output_type": "execute_result"
    }
   ],
   "source": [
    "### One Hot Representation\n",
    "one_hot_repr=[one_hot(words,voc_size)for words in sent]\n",
    "one_hot_repr"
   ]
  },
  {
   "cell_type": "code",
   "execution_count": 7,
   "metadata": {},
   "outputs": [],
   "source": [
    "## word Embedding Representation\n",
    "\n",
    "from tensorflow.keras.layers import Embedding\n",
    "#from tensorflow.keras.processing.sequence import pad_sequences\n",
    "from tensorflow.keras.utils import pad_sequences\n",
    "from tensorflow.keras.models import Sequential"
   ]
  },
  {
   "cell_type": "code",
   "execution_count": 8,
   "metadata": {},
   "outputs": [],
   "source": [
    "import numpy as np"
   ]
  },
  {
   "cell_type": "code",
   "execution_count": 9,
   "metadata": {},
   "outputs": [
    {
     "name": "stdout",
     "output_type": "stream",
     "text": [
      "[[   0    0    0    0 9203 6602 1413 4295]\n",
      " [   0    0    0    0 9203 6602 1413 2894]\n",
      " [   0    0    0    0 9203 8444 1413 5938]\n",
      " [   0    0    0 2159 3475 4892 1466  135]\n",
      " [   0    0    0 2159 3475 4892 1466 1678]\n",
      " [   0    0    0 9728 9203 2489 1413 1074]\n",
      " [   0    0    0    0 8044 2912 1920 1466]]\n"
     ]
    }
   ],
   "source": [
    "sent_length=8\n",
    "embedded_docs=pad_sequences(one_hot_repr,padding='pre',maxlen=sent_length)\n",
    "print(embedded_docs)"
   ]
  },
  {
   "cell_type": "code",
   "execution_count": 10,
   "metadata": {},
   "outputs": [],
   "source": [
    "## feature representation\n",
    "dim=10"
   ]
  },
  {
   "cell_type": "code",
   "execution_count": 11,
   "metadata": {},
   "outputs": [
    {
     "name": "stderr",
     "output_type": "stream",
     "text": [
      "C:\\Users\\vsudh\\anaconda3\\Lib\\site-packages\\keras\\src\\layers\\core\\embedding.py:90: UserWarning: Argument `input_length` is deprecated. Just remove it.\n",
      "  warnings.warn(\n"
     ]
    }
   ],
   "source": [
    "model=Sequential()\n",
    "model.add(Embedding(voc_size,dim,input_length=sent_length))\n",
    "model.compile('adam','mse')"
   ]
  },
  {
   "cell_type": "code",
   "execution_count": 12,
   "metadata": {},
   "outputs": [
    {
     "data": {
      "text/html": [
       "<pre style=\"white-space:pre;overflow-x:auto;line-height:normal;font-family:Menlo,'DejaVu Sans Mono',consolas,'Courier New',monospace\"><span style=\"font-weight: bold\">Model: \"sequential\"</span>\n",
       "</pre>\n"
      ],
      "text/plain": [
       "\u001b[1mModel: \"sequential\"\u001b[0m\n"
      ]
     },
     "metadata": {},
     "output_type": "display_data"
    },
    {
     "data": {
      "text/html": [
       "<pre style=\"white-space:pre;overflow-x:auto;line-height:normal;font-family:Menlo,'DejaVu Sans Mono',consolas,'Courier New',monospace\">┏━━━━━━━━━━━━━━━━━━━━━━━━━━━━━━━━━┳━━━━━━━━━━━━━━━━━━━━━━━━┳━━━━━━━━━━━━━━━┓\n",
       "┃<span style=\"font-weight: bold\"> Layer (type)                    </span>┃<span style=\"font-weight: bold\"> Output Shape           </span>┃<span style=\"font-weight: bold\">       Param # </span>┃\n",
       "┡━━━━━━━━━━━━━━━━━━━━━━━━━━━━━━━━━╇━━━━━━━━━━━━━━━━━━━━━━━━╇━━━━━━━━━━━━━━━┩\n",
       "│ embedding (<span style=\"color: #0087ff; text-decoration-color: #0087ff\">Embedding</span>)           │ ?                      │   <span style=\"color: #00af00; text-decoration-color: #00af00\">0</span> (unbuilt) │\n",
       "└─────────────────────────────────┴────────────────────────┴───────────────┘\n",
       "</pre>\n"
      ],
      "text/plain": [
       "┏━━━━━━━━━━━━━━━━━━━━━━━━━━━━━━━━━┳━━━━━━━━━━━━━━━━━━━━━━━━┳━━━━━━━━━━━━━━━┓\n",
       "┃\u001b[1m \u001b[0m\u001b[1mLayer (type)                   \u001b[0m\u001b[1m \u001b[0m┃\u001b[1m \u001b[0m\u001b[1mOutput Shape          \u001b[0m\u001b[1m \u001b[0m┃\u001b[1m \u001b[0m\u001b[1m      Param #\u001b[0m\u001b[1m \u001b[0m┃\n",
       "┡━━━━━━━━━━━━━━━━━━━━━━━━━━━━━━━━━╇━━━━━━━━━━━━━━━━━━━━━━━━╇━━━━━━━━━━━━━━━┩\n",
       "│ embedding (\u001b[38;5;33mEmbedding\u001b[0m)           │ ?                      │   \u001b[38;5;34m0\u001b[0m (unbuilt) │\n",
       "└─────────────────────────────────┴────────────────────────┴───────────────┘\n"
      ]
     },
     "metadata": {},
     "output_type": "display_data"
    },
    {
     "data": {
      "text/html": [
       "<pre style=\"white-space:pre;overflow-x:auto;line-height:normal;font-family:Menlo,'DejaVu Sans Mono',consolas,'Courier New',monospace\"><span style=\"font-weight: bold\"> Total params: </span><span style=\"color: #00af00; text-decoration-color: #00af00\">0</span> (0.00 B)\n",
       "</pre>\n"
      ],
      "text/plain": [
       "\u001b[1m Total params: \u001b[0m\u001b[38;5;34m0\u001b[0m (0.00 B)\n"
      ]
     },
     "metadata": {},
     "output_type": "display_data"
    },
    {
     "data": {
      "text/html": [
       "<pre style=\"white-space:pre;overflow-x:auto;line-height:normal;font-family:Menlo,'DejaVu Sans Mono',consolas,'Courier New',monospace\"><span style=\"font-weight: bold\"> Trainable params: </span><span style=\"color: #00af00; text-decoration-color: #00af00\">0</span> (0.00 B)\n",
       "</pre>\n"
      ],
      "text/plain": [
       "\u001b[1m Trainable params: \u001b[0m\u001b[38;5;34m0\u001b[0m (0.00 B)\n"
      ]
     },
     "metadata": {},
     "output_type": "display_data"
    },
    {
     "data": {
      "text/html": [
       "<pre style=\"white-space:pre;overflow-x:auto;line-height:normal;font-family:Menlo,'DejaVu Sans Mono',consolas,'Courier New',monospace\"><span style=\"font-weight: bold\"> Non-trainable params: </span><span style=\"color: #00af00; text-decoration-color: #00af00\">0</span> (0.00 B)\n",
       "</pre>\n"
      ],
      "text/plain": [
       "\u001b[1m Non-trainable params: \u001b[0m\u001b[38;5;34m0\u001b[0m (0.00 B)\n"
      ]
     },
     "metadata": {},
     "output_type": "display_data"
    }
   ],
   "source": [
    "model.summary()"
   ]
  },
  {
   "cell_type": "code",
   "execution_count": 13,
   "metadata": {},
   "outputs": [
    {
     "name": "stdout",
     "output_type": "stream",
     "text": [
      "\u001b[1m1/1\u001b[0m \u001b[32m━━━━━━━━━━━━━━━━━━━━\u001b[0m\u001b[37m\u001b[0m \u001b[1m0s\u001b[0m 441ms/step\n"
     ]
    },
    {
     "data": {
      "text/plain": [
       "array([[[-4.08429988e-02,  3.07682790e-02, -2.63387449e-02,\n",
       "          4.96593453e-02, -4.28714864e-02, -8.51005316e-03,\n",
       "         -3.10860761e-02, -1.99061986e-02, -2.37730742e-02,\n",
       "          2.00646259e-02],\n",
       "        [-4.08429988e-02,  3.07682790e-02, -2.63387449e-02,\n",
       "          4.96593453e-02, -4.28714864e-02, -8.51005316e-03,\n",
       "         -3.10860761e-02, -1.99061986e-02, -2.37730742e-02,\n",
       "          2.00646259e-02],\n",
       "        [-4.08429988e-02,  3.07682790e-02, -2.63387449e-02,\n",
       "          4.96593453e-02, -4.28714864e-02, -8.51005316e-03,\n",
       "         -3.10860761e-02, -1.99061986e-02, -2.37730742e-02,\n",
       "          2.00646259e-02],\n",
       "        [-4.08429988e-02,  3.07682790e-02, -2.63387449e-02,\n",
       "          4.96593453e-02, -4.28714864e-02, -8.51005316e-03,\n",
       "         -3.10860761e-02, -1.99061986e-02, -2.37730742e-02,\n",
       "          2.00646259e-02],\n",
       "        [-1.25285238e-03, -1.14748590e-02,  3.01431865e-04,\n",
       "         -2.19744090e-02,  2.71368511e-02,  1.49172880e-02,\n",
       "          4.81968410e-02, -2.02695616e-02, -9.17886570e-03,\n",
       "          3.86418141e-02],\n",
       "        [ 4.56694476e-02,  4.23490293e-02,  2.33904459e-02,\n",
       "          3.61281298e-02, -4.94490378e-02, -8.83007050e-03,\n",
       "         -8.17334652e-03,  4.85601164e-02, -4.14160714e-02,\n",
       "          2.29986347e-02],\n",
       "        [-4.88941781e-02, -4.70590703e-02, -7.59021193e-03,\n",
       "         -2.04468016e-02,  1.10930093e-02,  3.25104259e-02,\n",
       "         -3.99683118e-02, -7.87793472e-03,  1.70826912e-03,\n",
       "          6.87140226e-03],\n",
       "        [-1.06686838e-02,  4.33138050e-02,  1.74338855e-02,\n",
       "          3.90336253e-02, -7.72573054e-04,  3.30958627e-02,\n",
       "         -3.92967351e-02, -3.50786820e-02,  4.60741408e-02,\n",
       "         -3.68865840e-02]],\n",
       "\n",
       "       [[-4.08429988e-02,  3.07682790e-02, -2.63387449e-02,\n",
       "          4.96593453e-02, -4.28714864e-02, -8.51005316e-03,\n",
       "         -3.10860761e-02, -1.99061986e-02, -2.37730742e-02,\n",
       "          2.00646259e-02],\n",
       "        [-4.08429988e-02,  3.07682790e-02, -2.63387449e-02,\n",
       "          4.96593453e-02, -4.28714864e-02, -8.51005316e-03,\n",
       "         -3.10860761e-02, -1.99061986e-02, -2.37730742e-02,\n",
       "          2.00646259e-02],\n",
       "        [-4.08429988e-02,  3.07682790e-02, -2.63387449e-02,\n",
       "          4.96593453e-02, -4.28714864e-02, -8.51005316e-03,\n",
       "         -3.10860761e-02, -1.99061986e-02, -2.37730742e-02,\n",
       "          2.00646259e-02],\n",
       "        [-4.08429988e-02,  3.07682790e-02, -2.63387449e-02,\n",
       "          4.96593453e-02, -4.28714864e-02, -8.51005316e-03,\n",
       "         -3.10860761e-02, -1.99061986e-02, -2.37730742e-02,\n",
       "          2.00646259e-02],\n",
       "        [-1.25285238e-03, -1.14748590e-02,  3.01431865e-04,\n",
       "         -2.19744090e-02,  2.71368511e-02,  1.49172880e-02,\n",
       "          4.81968410e-02, -2.02695616e-02, -9.17886570e-03,\n",
       "          3.86418141e-02],\n",
       "        [ 4.56694476e-02,  4.23490293e-02,  2.33904459e-02,\n",
       "          3.61281298e-02, -4.94490378e-02, -8.83007050e-03,\n",
       "         -8.17334652e-03,  4.85601164e-02, -4.14160714e-02,\n",
       "          2.29986347e-02],\n",
       "        [-4.88941781e-02, -4.70590703e-02, -7.59021193e-03,\n",
       "         -2.04468016e-02,  1.10930093e-02,  3.25104259e-02,\n",
       "         -3.99683118e-02, -7.87793472e-03,  1.70826912e-03,\n",
       "          6.87140226e-03],\n",
       "        [-1.56377777e-02, -4.76808809e-02, -1.66013092e-03,\n",
       "         -3.74682918e-02, -1.34769827e-03,  3.93291973e-02,\n",
       "         -9.99857113e-03, -1.45288110e-02, -4.89626639e-02,\n",
       "         -1.82207711e-02]],\n",
       "\n",
       "       [[-4.08429988e-02,  3.07682790e-02, -2.63387449e-02,\n",
       "          4.96593453e-02, -4.28714864e-02, -8.51005316e-03,\n",
       "         -3.10860761e-02, -1.99061986e-02, -2.37730742e-02,\n",
       "          2.00646259e-02],\n",
       "        [-4.08429988e-02,  3.07682790e-02, -2.63387449e-02,\n",
       "          4.96593453e-02, -4.28714864e-02, -8.51005316e-03,\n",
       "         -3.10860761e-02, -1.99061986e-02, -2.37730742e-02,\n",
       "          2.00646259e-02],\n",
       "        [-4.08429988e-02,  3.07682790e-02, -2.63387449e-02,\n",
       "          4.96593453e-02, -4.28714864e-02, -8.51005316e-03,\n",
       "         -3.10860761e-02, -1.99061986e-02, -2.37730742e-02,\n",
       "          2.00646259e-02],\n",
       "        [-4.08429988e-02,  3.07682790e-02, -2.63387449e-02,\n",
       "          4.96593453e-02, -4.28714864e-02, -8.51005316e-03,\n",
       "         -3.10860761e-02, -1.99061986e-02, -2.37730742e-02,\n",
       "          2.00646259e-02],\n",
       "        [-1.25285238e-03, -1.14748590e-02,  3.01431865e-04,\n",
       "         -2.19744090e-02,  2.71368511e-02,  1.49172880e-02,\n",
       "          4.81968410e-02, -2.02695616e-02, -9.17886570e-03,\n",
       "          3.86418141e-02],\n",
       "        [ 2.66559385e-02, -7.64509290e-03, -4.61677574e-02,\n",
       "         -5.76763228e-03,  4.82666530e-02, -2.87045483e-02,\n",
       "          4.83553745e-02, -1.80340782e-02, -3.22799236e-02,\n",
       "         -4.53205965e-02],\n",
       "        [-4.88941781e-02, -4.70590703e-02, -7.59021193e-03,\n",
       "         -2.04468016e-02,  1.10930093e-02,  3.25104259e-02,\n",
       "         -3.99683118e-02, -7.87793472e-03,  1.70826912e-03,\n",
       "          6.87140226e-03],\n",
       "        [-1.33018121e-02,  3.53735723e-02,  2.00967304e-02,\n",
       "          3.30666043e-02, -1.47102028e-03,  3.08715180e-03,\n",
       "         -3.95330675e-02, -4.83575352e-02, -2.25387570e-02,\n",
       "          1.91515125e-02]],\n",
       "\n",
       "       [[-4.08429988e-02,  3.07682790e-02, -2.63387449e-02,\n",
       "          4.96593453e-02, -4.28714864e-02, -8.51005316e-03,\n",
       "         -3.10860761e-02, -1.99061986e-02, -2.37730742e-02,\n",
       "          2.00646259e-02],\n",
       "        [-4.08429988e-02,  3.07682790e-02, -2.63387449e-02,\n",
       "          4.96593453e-02, -4.28714864e-02, -8.51005316e-03,\n",
       "         -3.10860761e-02, -1.99061986e-02, -2.37730742e-02,\n",
       "          2.00646259e-02],\n",
       "        [-4.08429988e-02,  3.07682790e-02, -2.63387449e-02,\n",
       "          4.96593453e-02, -4.28714864e-02, -8.51005316e-03,\n",
       "         -3.10860761e-02, -1.99061986e-02, -2.37730742e-02,\n",
       "          2.00646259e-02],\n",
       "        [-4.09281962e-02, -3.40504646e-02, -3.87827978e-02,\n",
       "         -3.57475169e-02,  2.47764923e-02,  1.82602517e-02,\n",
       "          3.35206874e-02, -4.17328253e-02,  3.11034918e-03,\n",
       "         -3.19956429e-02],\n",
       "        [-3.29115987e-02,  3.39067020e-02, -7.50689581e-03,\n",
       "         -6.69114664e-03, -2.89362911e-02, -1.22868903e-02,\n",
       "          3.08712758e-02,  7.76039436e-03, -4.06566858e-02,\n",
       "         -4.28950191e-02],\n",
       "        [-3.63433473e-02, -6.30009174e-03, -2.72562038e-02,\n",
       "          3.82869281e-02,  1.07348189e-02,  2.37640627e-02,\n",
       "          4.49951030e-02, -4.52509187e-02, -1.80662647e-02,\n",
       "          2.41014473e-02],\n",
       "        [-3.87098566e-02, -1.54104605e-02,  8.52047279e-03,\n",
       "         -1.58212073e-02, -2.04794407e-02,  2.40134075e-03,\n",
       "          1.19584203e-02,  8.43209028e-03,  4.41740826e-03,\n",
       "         -4.72217463e-02],\n",
       "        [ 3.61816920e-02,  6.71374798e-03,  1.55864842e-02,\n",
       "         -5.77383116e-03, -3.56086493e-02, -1.99673772e-02,\n",
       "         -3.90141495e-02,  2.50167884e-02,  2.56369375e-02,\n",
       "         -4.95490097e-02]],\n",
       "\n",
       "       [[-4.08429988e-02,  3.07682790e-02, -2.63387449e-02,\n",
       "          4.96593453e-02, -4.28714864e-02, -8.51005316e-03,\n",
       "         -3.10860761e-02, -1.99061986e-02, -2.37730742e-02,\n",
       "          2.00646259e-02],\n",
       "        [-4.08429988e-02,  3.07682790e-02, -2.63387449e-02,\n",
       "          4.96593453e-02, -4.28714864e-02, -8.51005316e-03,\n",
       "         -3.10860761e-02, -1.99061986e-02, -2.37730742e-02,\n",
       "          2.00646259e-02],\n",
       "        [-4.08429988e-02,  3.07682790e-02, -2.63387449e-02,\n",
       "          4.96593453e-02, -4.28714864e-02, -8.51005316e-03,\n",
       "         -3.10860761e-02, -1.99061986e-02, -2.37730742e-02,\n",
       "          2.00646259e-02],\n",
       "        [-4.09281962e-02, -3.40504646e-02, -3.87827978e-02,\n",
       "         -3.57475169e-02,  2.47764923e-02,  1.82602517e-02,\n",
       "          3.35206874e-02, -4.17328253e-02,  3.11034918e-03,\n",
       "         -3.19956429e-02],\n",
       "        [-3.29115987e-02,  3.39067020e-02, -7.50689581e-03,\n",
       "         -6.69114664e-03, -2.89362911e-02, -1.22868903e-02,\n",
       "          3.08712758e-02,  7.76039436e-03, -4.06566858e-02,\n",
       "         -4.28950191e-02],\n",
       "        [-3.63433473e-02, -6.30009174e-03, -2.72562038e-02,\n",
       "          3.82869281e-02,  1.07348189e-02,  2.37640627e-02,\n",
       "          4.49951030e-02, -4.52509187e-02, -1.80662647e-02,\n",
       "          2.41014473e-02],\n",
       "        [-3.87098566e-02, -1.54104605e-02,  8.52047279e-03,\n",
       "         -1.58212073e-02, -2.04794407e-02,  2.40134075e-03,\n",
       "          1.19584203e-02,  8.43209028e-03,  4.41740826e-03,\n",
       "         -4.72217463e-02],\n",
       "        [ 1.23971701e-02, -1.15795732e-02,  1.82900541e-02,\n",
       "          9.02637839e-05,  1.66646130e-02, -2.52127182e-02,\n",
       "          1.99275650e-02, -8.78571346e-03,  2.24338062e-02,\n",
       "         -4.58210222e-02]],\n",
       "\n",
       "       [[-4.08429988e-02,  3.07682790e-02, -2.63387449e-02,\n",
       "          4.96593453e-02, -4.28714864e-02, -8.51005316e-03,\n",
       "         -3.10860761e-02, -1.99061986e-02, -2.37730742e-02,\n",
       "          2.00646259e-02],\n",
       "        [-4.08429988e-02,  3.07682790e-02, -2.63387449e-02,\n",
       "          4.96593453e-02, -4.28714864e-02, -8.51005316e-03,\n",
       "         -3.10860761e-02, -1.99061986e-02, -2.37730742e-02,\n",
       "          2.00646259e-02],\n",
       "        [-4.08429988e-02,  3.07682790e-02, -2.63387449e-02,\n",
       "          4.96593453e-02, -4.28714864e-02, -8.51005316e-03,\n",
       "         -3.10860761e-02, -1.99061986e-02, -2.37730742e-02,\n",
       "          2.00646259e-02],\n",
       "        [-3.42525989e-02, -2.01174617e-02, -2.00064182e-02,\n",
       "         -4.20691147e-02, -3.01252957e-02,  4.60855663e-05,\n",
       "         -2.48696934e-02, -2.79784203e-02,  3.59971039e-02,\n",
       "          1.76413991e-02],\n",
       "        [-1.25285238e-03, -1.14748590e-02,  3.01431865e-04,\n",
       "         -2.19744090e-02,  2.71368511e-02,  1.49172880e-02,\n",
       "          4.81968410e-02, -2.02695616e-02, -9.17886570e-03,\n",
       "          3.86418141e-02],\n",
       "        [ 3.83518450e-02, -4.47303541e-02, -4.10723686e-03,\n",
       "          3.98897864e-02, -2.18443032e-02, -4.87147085e-02,\n",
       "         -4.94293831e-02,  4.13184501e-02, -1.66866779e-02,\n",
       "         -3.82107720e-02],\n",
       "        [-4.88941781e-02, -4.70590703e-02, -7.59021193e-03,\n",
       "         -2.04468016e-02,  1.10930093e-02,  3.25104259e-02,\n",
       "         -3.99683118e-02, -7.87793472e-03,  1.70826912e-03,\n",
       "          6.87140226e-03],\n",
       "        [ 3.85907404e-02, -4.65689898e-02,  4.82209362e-02,\n",
       "          3.20703872e-02,  1.03296749e-02,  3.90013196e-02,\n",
       "         -1.82901248e-02,  3.78339626e-02, -9.74737480e-03,\n",
       "          1.59146301e-02]],\n",
       "\n",
       "       [[-4.08429988e-02,  3.07682790e-02, -2.63387449e-02,\n",
       "          4.96593453e-02, -4.28714864e-02, -8.51005316e-03,\n",
       "         -3.10860761e-02, -1.99061986e-02, -2.37730742e-02,\n",
       "          2.00646259e-02],\n",
       "        [-4.08429988e-02,  3.07682790e-02, -2.63387449e-02,\n",
       "          4.96593453e-02, -4.28714864e-02, -8.51005316e-03,\n",
       "         -3.10860761e-02, -1.99061986e-02, -2.37730742e-02,\n",
       "          2.00646259e-02],\n",
       "        [-4.08429988e-02,  3.07682790e-02, -2.63387449e-02,\n",
       "          4.96593453e-02, -4.28714864e-02, -8.51005316e-03,\n",
       "         -3.10860761e-02, -1.99061986e-02, -2.37730742e-02,\n",
       "          2.00646259e-02],\n",
       "        [-4.08429988e-02,  3.07682790e-02, -2.63387449e-02,\n",
       "          4.96593453e-02, -4.28714864e-02, -8.51005316e-03,\n",
       "         -3.10860761e-02, -1.99061986e-02, -2.37730742e-02,\n",
       "          2.00646259e-02],\n",
       "        [ 1.75789110e-02, -1.14739910e-02,  1.41505040e-02,\n",
       "         -4.21225652e-02,  3.62407304e-02,  1.55594014e-02,\n",
       "         -1.57363527e-02, -2.12755557e-02,  4.28582318e-02,\n",
       "         -1.80486217e-02],\n",
       "        [-4.74956147e-02,  3.96866091e-02,  4.94620241e-02,\n",
       "         -9.02558491e-03,  3.60165276e-02, -3.61318588e-02,\n",
       "          2.40213163e-02,  4.06178944e-02, -1.94301009e-02,\n",
       "          4.68398072e-02],\n",
       "        [-2.95474883e-02,  1.42089240e-02,  4.53882702e-02,\n",
       "          1.66437067e-02,  2.89861895e-02,  2.81765945e-02,\n",
       "         -9.81364399e-03,  2.61172913e-02,  1.18056312e-02,\n",
       "          3.92561443e-02],\n",
       "        [-3.87098566e-02, -1.54104605e-02,  8.52047279e-03,\n",
       "         -1.58212073e-02, -2.04794407e-02,  2.40134075e-03,\n",
       "          1.19584203e-02,  8.43209028e-03,  4.41740826e-03,\n",
       "         -4.72217463e-02]]], dtype=float32)"
      ]
     },
     "execution_count": 13,
     "metadata": {},
     "output_type": "execute_result"
    }
   ],
   "source": [
    "model.predict(embedded_docs)"
   ]
  },
  {
   "cell_type": "code",
   "execution_count": 14,
   "metadata": {},
   "outputs": [
    {
     "data": {
      "text/plain": [
       "array([   0,    0,    0,    0, 9203, 6602, 1413, 4295])"
      ]
     },
     "execution_count": 14,
     "metadata": {},
     "output_type": "execute_result"
    }
   ],
   "source": [
    "embedded_docs[0]"
   ]
  },
  {
   "cell_type": "code",
   "execution_count": 15,
   "metadata": {},
   "outputs": [
    {
     "ename": "ValueError",
     "evalue": "Exception encountered when calling Sequential.call().\n\n\u001b[1mCannot take the length of shape with unknown rank.\u001b[0m\n\nArguments received by Sequential.call():\n  • inputs=tf.Tensor(shape=<unknown>, dtype=int32)\n  • training=False\n  • mask=None",
     "output_type": "error",
     "traceback": [
      "\u001b[1;31m---------------------------------------------------------------------------\u001b[0m",
      "\u001b[1;31mValueError\u001b[0m                                Traceback (most recent call last)",
      "Cell \u001b[1;32mIn[15], line 1\u001b[0m\n\u001b[1;32m----> 1\u001b[0m model\u001b[38;5;241m.\u001b[39mpredict(embedded_docs[\u001b[38;5;241m0\u001b[39m])\n",
      "File \u001b[1;32m~\\anaconda3\\Lib\\site-packages\\keras\\src\\utils\\traceback_utils.py:122\u001b[0m, in \u001b[0;36mfilter_traceback.<locals>.error_handler\u001b[1;34m(*args, **kwargs)\u001b[0m\n\u001b[0;32m    119\u001b[0m     filtered_tb \u001b[38;5;241m=\u001b[39m _process_traceback_frames(e\u001b[38;5;241m.\u001b[39m__traceback__)\n\u001b[0;32m    120\u001b[0m     \u001b[38;5;66;03m# To get the full stack trace, call:\u001b[39;00m\n\u001b[0;32m    121\u001b[0m     \u001b[38;5;66;03m# `keras.config.disable_traceback_filtering()`\u001b[39;00m\n\u001b[1;32m--> 122\u001b[0m     \u001b[38;5;28;01mraise\u001b[39;00m e\u001b[38;5;241m.\u001b[39mwith_traceback(filtered_tb) \u001b[38;5;28;01mfrom\u001b[39;00m \u001b[38;5;28;01mNone\u001b[39;00m\n\u001b[0;32m    123\u001b[0m \u001b[38;5;28;01mfinally\u001b[39;00m:\n\u001b[0;32m    124\u001b[0m     \u001b[38;5;28;01mdel\u001b[39;00m filtered_tb\n",
      "File \u001b[1;32m~\\anaconda3\\Lib\\site-packages\\keras\\src\\utils\\traceback_utils.py:122\u001b[0m, in \u001b[0;36mfilter_traceback.<locals>.error_handler\u001b[1;34m(*args, **kwargs)\u001b[0m\n\u001b[0;32m    119\u001b[0m     filtered_tb \u001b[38;5;241m=\u001b[39m _process_traceback_frames(e\u001b[38;5;241m.\u001b[39m__traceback__)\n\u001b[0;32m    120\u001b[0m     \u001b[38;5;66;03m# To get the full stack trace, call:\u001b[39;00m\n\u001b[0;32m    121\u001b[0m     \u001b[38;5;66;03m# `keras.config.disable_traceback_filtering()`\u001b[39;00m\n\u001b[1;32m--> 122\u001b[0m     \u001b[38;5;28;01mraise\u001b[39;00m e\u001b[38;5;241m.\u001b[39mwith_traceback(filtered_tb) \u001b[38;5;28;01mfrom\u001b[39;00m \u001b[38;5;28;01mNone\u001b[39;00m\n\u001b[0;32m    123\u001b[0m \u001b[38;5;28;01mfinally\u001b[39;00m:\n\u001b[0;32m    124\u001b[0m     \u001b[38;5;28;01mdel\u001b[39;00m filtered_tb\n",
      "\u001b[1;31mValueError\u001b[0m: Exception encountered when calling Sequential.call().\n\n\u001b[1mCannot take the length of shape with unknown rank.\u001b[0m\n\nArguments received by Sequential.call():\n  • inputs=tf.Tensor(shape=<unknown>, dtype=int32)\n  • training=False\n  • mask=None"
     ]
    }
   ],
   "source": [
    "model.predict(embedded_docs[0])"
   ]
  },
  {
   "cell_type": "code",
   "execution_count": null,
   "metadata": {},
   "outputs": [],
   "source": []
  }
 ],
 "metadata": {
  "kernelspec": {
   "display_name": "Python 3 (ipykernel)",
   "language": "python",
   "name": "python3"
  },
  "language_info": {
   "codemirror_mode": {
    "name": "ipython",
    "version": 3
   },
   "file_extension": ".py",
   "mimetype": "text/x-python",
   "name": "python",
   "nbconvert_exporter": "python",
   "pygments_lexer": "ipython3",
   "version": "3.12.4"
  }
 },
 "nbformat": 4,
 "nbformat_minor": 4
}
